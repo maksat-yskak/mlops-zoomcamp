{
 "cells": [
  {
   "cell_type": "markdown",
   "id": "110e3138",
   "metadata": {},
   "source": [
    "## Q1. Install MLflow"
   ]
  },
  {
   "cell_type": "code",
   "execution_count": 4,
   "id": "21b434e9",
   "metadata": {},
   "outputs": [
    {
     "name": "stdout",
     "output_type": "stream",
     "text": [
      "mlflow, version 2.22.0\n"
     ]
    }
   ],
   "source": [
    "!mlflow --version"
   ]
  },
  {
   "cell_type": "markdown",
   "id": "9dfa9a7c",
   "metadata": {},
   "source": [
    "## Q2. Download and preprocess the data"
   ]
  },
  {
   "cell_type": "code",
   "execution_count": 10,
   "id": "839c692a",
   "metadata": {},
   "outputs": [],
   "source": [
    "!python preprocess_data.py --raw_data_path \"../data\" --dest_path ./output"
   ]
  },
  {
   "cell_type": "code",
   "execution_count": 1,
   "id": "54df0eb6",
   "metadata": {},
   "outputs": [
    {
     "name": "stdout",
     "output_type": "stream",
     "text": [
      "dv.pkl\n",
      "test.pkl\n",
      "train.pkl\n",
      "val.pkl\n"
     ]
    }
   ],
   "source": [
    "!ls -1 output "
   ]
  },
  {
   "cell_type": "markdown",
   "id": "e13c3bb2",
   "metadata": {},
   "source": [
    "## Q3. Train a model with autolog"
   ]
  },
  {
   "cell_type": "code",
   "execution_count": 2,
   "id": "a3bda366",
   "metadata": {},
   "outputs": [],
   "source": [
    "!python train.py"
   ]
  },
  {
   "cell_type": "code",
   "execution_count": 4,
   "id": "6609ba96",
   "metadata": {},
   "outputs": [],
   "source": [
    "from mlflow.tracking import MlflowClient\n",
    "\n",
    "ML_FLOW_TRACKING_URI = \"sqlite:///mlflow.db\"\n",
    "\n",
    "client = MlflowClient(tracking_uri=ML_FLOW_TRACKING_URI)"
   ]
  },
  {
   "cell_type": "code",
   "execution_count": 39,
   "id": "c2d10ed8",
   "metadata": {},
   "outputs": [
    {
     "data": {
      "text/plain": [
       "[<Run: data=<RunData: metrics={'training_mean_absolute_error': 3.424470194231236,\n",
       "  'training_mean_squared_error': 27.083054499499358,\n",
       "  'training_r2_score': 0.6673983775155525,\n",
       "  'training_root_mean_squared_error': 5.204138209108148,\n",
       "  'training_score': 0.6673983775155525}, params={'bootstrap': 'True',\n",
       "  'ccp_alpha': '0.0',\n",
       "  'criterion': 'squared_error',\n",
       "  'max_depth': '10',\n",
       "  'max_features': '1.0',\n",
       "  'max_leaf_nodes': 'None',\n",
       "  'max_samples': 'None',\n",
       "  'min_impurity_decrease': '0.0',\n",
       "  'min_samples_leaf': '1',\n",
       "  'min_samples_split': '2',\n",
       "  'min_weight_fraction_leaf': '0.0',\n",
       "  'monotonic_cst': 'None',\n",
       "  'n_estimators': '100',\n",
       "  'n_jobs': 'None',\n",
       "  'oob_score': 'False',\n",
       "  'random_state': '0',\n",
       "  'verbose': '0',\n",
       "  'warm_start': 'False'}, tags={'estimator_class': 'sklearn.ensemble._forest.RandomForestRegressor',\n",
       "  'estimator_name': 'RandomForestRegressor',\n",
       "  'mlflow.log-model.history': '[{\"run_id\": \"dcac2e6597354d8c9639bca5aa918a89\", '\n",
       "                              '\"artifact_path\": \"model\", \"utc_time_created\": '\n",
       "                              '\"2025-10-13 00:10:38.100206\", \"model_uuid\": '\n",
       "                              '\"e390911cadd94b6bb7bc331c9f607111\", \"flavors\": '\n",
       "                              '{\"python_function\": {\"model_path\": \"model.pkl\", '\n",
       "                              '\"predict_fn\": \"predict\", \"loader_module\": '\n",
       "                              '\"mlflow.sklearn\", \"python_version\": \"3.12.3\", '\n",
       "                              '\"env\": {\"conda\": \"conda.yaml\", \"virtualenv\": '\n",
       "                              '\"python_env.yaml\"}}, \"sklearn\": '\n",
       "                              '{\"pickled_model\": \"model.pkl\", '\n",
       "                              '\"sklearn_version\": \"1.6.1\", '\n",
       "                              '\"serialization_format\": \"cloudpickle\", \"code\": '\n",
       "                              'null}}}]',\n",
       "  'mlflow.runName': 'ambitious-shoat-789',\n",
       "  'mlflow.source.git.commit': 'eceab46a55c59300cfabe6dca2f8716c119f975a',\n",
       "  'mlflow.source.name': 'train.py',\n",
       "  'mlflow.source.type': 'LOCAL',\n",
       "  'mlflow.user': 'maksat'}>, info=<RunInfo: artifact_uri='/home/maksat/mlops/ml-zoomcamp/02-experiment-tracking/mlruns/1/dcac2e6597354d8c9639bca5aa918a89/artifacts', end_time=1760314290945, experiment_id='1', lifecycle_stage='active', run_id='dcac2e6597354d8c9639bca5aa918a89', run_name='ambitious-shoat-789', run_uuid='dcac2e6597354d8c9639bca5aa918a89', start_time=1760314172997, status='FINISHED', user_id='maksat'>, inputs=<RunInputs: dataset_inputs=[<DatasetInput: dataset=<Dataset: digest='acc5c667', name='dataset', profile=('{\"features_shape\": [65946, 5702], \"features_size\": 376024092, '\n",
       "  '\"features_nbytes\": 3008192736, \"targets_shape\": [65946], \"targets_size\": '\n",
       "  '65946, \"targets_nbytes\": 527568}'), schema=('{\"mlflow_tensorspec\": {\"features\": \"[{\\\\\"type\\\\\": \\\\\"tensor\\\\\", '\n",
       "  '\\\\\"tensor-spec\\\\\": {\\\\\"dtype\\\\\": \\\\\"float64\\\\\", \\\\\"shape\\\\\": [-1, 5702]}}]\", '\n",
       "  '\"targets\": \"[{\\\\\"type\\\\\": \\\\\"tensor\\\\\", \\\\\"tensor-spec\\\\\": {\\\\\"dtype\\\\\": '\n",
       "  '\\\\\"float64\\\\\", \\\\\"shape\\\\\": [-1]}}]\"}}'), source=('{\"tags\": {\"mlflow.user\": \"maksat\", \"mlflow.source.name\": \"train.py\", '\n",
       "  '\"mlflow.source.type\": \"LOCAL\", \"mlflow.source.git.commit\": '\n",
       "  '\"eceab46a55c59300cfabe6dca2f8716c119f975a\"}}'), source_type='code'>, tags=[<InputTag: key='mlflow.data.context', value='train'>]>,\n",
       "  <DatasetInput: dataset=<Dataset: digest='7edda543', name='dataset', profile=('{\"features_shape\": [62574, 5702], \"features_size\": 356796948, '\n",
       "  '\"features_nbytes\": 2854375584}'), schema=('{\"mlflow_tensorspec\": {\"features\": \"[{\\\\\"type\\\\\": \\\\\"tensor\\\\\", '\n",
       "  '\\\\\"tensor-spec\\\\\": {\\\\\"dtype\\\\\": \\\\\"float64\\\\\", \\\\\"shape\\\\\": [-1, 5702]}}]\", '\n",
       "  '\"targets\": null}}'), source=('{\"tags\": {\"mlflow.user\": \"maksat\", \"mlflow.source.name\": \"train.py\", '\n",
       "  '\"mlflow.source.type\": \"LOCAL\", \"mlflow.source.git.commit\": '\n",
       "  '\"eceab46a55c59300cfabe6dca2f8716c119f975a\"}}'), source_type='code'>, tags=[<InputTag: key='mlflow.data.context', value='eval'>]>]>>]"
      ]
     },
     "execution_count": 39,
     "metadata": {},
     "output_type": "execute_result"
    }
   ],
   "source": [
    "client.search_experiments()\n",
    "\n",
    "runs = client.search_runs(\n",
    "    experiment_ids='1',\n",
    "    filter_string=\"\"\n",
    ")\n",
    "\n",
    "runs"
   ]
  },
  {
   "cell_type": "code",
   "execution_count": 40,
   "id": "40bd7ae5",
   "metadata": {},
   "outputs": [
    {
     "name": "stdout",
     "output_type": "stream",
     "text": [
      "min_samples_split: 2\n"
     ]
    }
   ],
   "source": [
    "for run in runs:\n",
    "    print(f\"min_samples_split: {run.data.params['min_samples_split']}\")"
   ]
  },
  {
   "cell_type": "markdown",
   "id": "df347cd5",
   "metadata": {},
   "source": [
    "## Q4. Launch the tracking server locally"
   ]
  },
  {
   "cell_type": "code",
   "execution_count": 48,
   "id": "c3c81841",
   "metadata": {},
   "outputs": [
    {
     "name": "stdout",
     "output_type": "stream",
     "text": [
      "[2025-10-13 05:31:03 +0500] [8951] [INFO] Starting gunicorn 23.0.0\n",
      "[2025-10-13 05:31:03 +0500] [8951] [INFO] Listening at: http://127.0.0.1:5000 (8951)\n",
      "[2025-10-13 05:31:03 +0500] [8951] [INFO] Using worker: sync\n",
      "[2025-10-13 05:31:03 +0500] [8952] [INFO] Booting worker with pid: 8952\n",
      "[2025-10-13 05:31:03 +0500] [8953] [INFO] Booting worker with pid: 8953\n",
      "[2025-10-13 05:31:03 +0500] [8954] [INFO] Booting worker with pid: 8954\n",
      "[2025-10-13 05:31:03 +0500] [8955] [INFO] Booting worker with pid: 8955\n",
      "[2025-10-13 05:31:09 +0500] [8951] [INFO] Handling signal: int\n",
      "^C\n",
      "\n",
      "Aborted!\n",
      "[2025-10-13 05:31:09 +0500] [8955] [INFO] Worker exiting (pid: 8955)\n",
      "[2025-10-13 05:31:09 +0500] [8954] [INFO] Worker exiting (pid: 8954)\n",
      "[2025-10-13 05:31:09 +0500] [8953] [INFO] Worker exiting (pid: 8953)\n",
      "[2025-10-13 05:31:09 +0500] [8952] [INFO] Worker exiting (pid: 8952)\n"
     ]
    }
   ],
   "source": [
    "!mlflow server --backend-store-uri sqlite:///mlflow.db --default-artifact-root ./artifacts"
   ]
  },
  {
   "cell_type": "code",
   "execution_count": 46,
   "id": "cd00abc9",
   "metadata": {},
   "outputs": [
    {
     "name": "stdout",
     "output_type": "stream",
     "text": [
      "total 316\n",
      "drwxr-xr-x 2 maksat maksat   4096 Oct 13 05:29 artifacts\n",
      "-rw-r--r-- 1 maksat maksat  70093 Oct 12 05:10 duration_prediction.ipynb\n",
      "-rw-r--r-- 1 maksat maksat      0 Oct 13 04:18 homework.ipynb\n",
      "-rw-r--r-- 1 maksat maksat 225280 Oct 13 05:19 mlflow.db\n",
      "drwxr-xr-x 3 maksat maksat   4096 Oct 13 05:10 mlruns\n",
      "drwxr-xr-x 2 maksat maksat   4096 Oct 13 04:29 output\n",
      "-rw-r--r-- 1 maksat maksat   2510 Oct 13 04:27 preprocess_data.py\n",
      "-rw-r--r-- 1 maksat maksat    975 Oct 13 04:39 train.py\n"
     ]
    }
   ],
   "source": [
    "!ls -l"
   ]
  },
  {
   "cell_type": "markdown",
   "id": "a9571e99",
   "metadata": {},
   "source": [
    "## Q5. Tune model hyperparameters"
   ]
  },
  {
   "cell_type": "code",
   "execution_count": 60,
   "id": "f6e30fc2",
   "metadata": {},
   "outputs": [
    {
     "name": "stdout",
     "output_type": "stream",
     "text": [
      "/home/maksat/mlops/lib/python3.12/site-packages/hyperopt/atpe.py:19: UserWarning: pkg_resources is deprecated as an API. See https://setuptools.pypa.io/en/latest/pkg_resources.html. The pkg_resources package is slated for removal as early as 2025-11-30. Refrain from using this package or pin to Setuptools<81.\n",
      "  import pkg_resources\n",
      "🏃 View run luxuriant-ox-137 at: http://127.0.0.1:5000/#/experiments/2/runs/3f83c50429004dbc87b3d1c9c2883e2d\n",
      "\n",
      "🧪 View experiment at: http://127.0.0.1:5000/#/experiments/2                    \n",
      "\n",
      "🏃 View run aged-foal-624 at: http://127.0.0.1:5000/#/experiments/2/runs/4548ee886f3b4fc18e746fb2bcadafed\n",
      "\n",
      "🧪 View experiment at: http://127.0.0.1:5000/#/experiments/2                    \n",
      "\n",
      "🏃 View run capricious-bat-713 at: http://127.0.0.1:5000/#/experiments/2/runs/597e765743bf4ec9885c4b2993b5a14d\n",
      "\n",
      "🧪 View experiment at: http://127.0.0.1:5000/#/experiments/2                    \n",
      "\n",
      "🏃 View run legendary-deer-672 at: http://127.0.0.1:5000/#/experiments/2/runs/1df41d3134c6436eab9f4e6ecada34e5\n",
      "\n",
      "🧪 View experiment at: http://127.0.0.1:5000/#/experiments/2                    \n",
      "\n",
      "🏃 View run treasured-swan-70 at: http://127.0.0.1:5000/#/experiments/2/runs/0cf8086d52d54a7f826562c904016e39\n",
      "\n",
      "🧪 View experiment at: http://127.0.0.1:5000/#/experiments/2                    \n",
      "\n",
      "🏃 View run wise-mink-280 at: http://127.0.0.1:5000/#/experiments/2/runs/9f0454a5d7a0496191505c67a0405d29\n",
      "\n",
      "🧪 View experiment at: http://127.0.0.1:5000/#/experiments/2                    \n",
      "\n",
      "🏃 View run powerful-ape-352 at: http://127.0.0.1:5000/#/experiments/2/runs/cbffc01af81d4ad090dc8c6b7844890f\n",
      "\n",
      "🧪 View experiment at: http://127.0.0.1:5000/#/experiments/2                    \n",
      "\n",
      "🏃 View run overjoyed-rat-593 at: http://127.0.0.1:5000/#/experiments/2/runs/a6455796d4904f58805d1b08c7a02553\n",
      "\n",
      "🧪 View experiment at: http://127.0.0.1:5000/#/experiments/2                    \n",
      "\n",
      "🏃 View run gregarious-worm-620 at: http://127.0.0.1:5000/#/experiments/2/runs/92efd18482564c5288ebde601d1953e4\n",
      "\n",
      "🧪 View experiment at: http://127.0.0.1:5000/#/experiments/2                    \n",
      "\n",
      "🏃 View run colorful-midge-383 at: http://127.0.0.1:5000/#/experiments/2/runs/9a22ed5d98794b2992a026fc9a9daecb\n",
      "\n",
      "🧪 View experiment at: http://127.0.0.1:5000/#/experiments/2                    \n",
      "\n",
      "🏃 View run sassy-bat-454 at: http://127.0.0.1:5000/#/experiments/2/runs/451908c3cf8f406e9e067f5fa99cd5fb\n",
      "\n",
      "🧪 View experiment at: http://127.0.0.1:5000/#/experiments/2                    \n",
      "\n",
      "🏃 View run traveling-dove-224 at: http://127.0.0.1:5000/#/experiments/2/runs/181a69644d2e4c2da0a0a64f0784ca10\n",
      "\n",
      "🧪 View experiment at: http://127.0.0.1:5000/#/experiments/2                    \n",
      "\n",
      "🏃 View run magnificent-kite-174 at: http://127.0.0.1:5000/#/experiments/2/runs/5446489534724e2ca43e2c0cbb5fb4c8\n",
      "\n",
      "🧪 View experiment at: http://127.0.0.1:5000/#/experiments/2                    \n",
      "\n",
      "🏃 View run charming-vole-470 at: http://127.0.0.1:5000/#/experiments/2/runs/f1f2ee33dbd94c78ada4af336adcdc6d\n",
      "\n",
      "🧪 View experiment at: http://127.0.0.1:5000/#/experiments/2                    \n",
      "\n",
      "🏃 View run defiant-mole-841 at: http://127.0.0.1:5000/#/experiments/2/runs/cbcf503a279f41589595678250f1a0e0\n",
      "\n",
      "🧪 View experiment at: http://127.0.0.1:5000/#/experiments/2                    \n",
      "\n",
      "100%|██████████| 15/15 [01:42<00:00,  6.86s/trial, best loss: 5.335419588556921]\n"
     ]
    }
   ],
   "source": [
    "!python hpo.py"
   ]
  },
  {
   "cell_type": "code",
   "execution_count": 65,
   "id": "51ed3689",
   "metadata": {},
   "outputs": [
    {
     "name": "stdout",
     "output_type": "stream",
     "text": [
      "rmse: 5.355041749098928\n",
      "rmse: 5.37159585587677\n",
      "rmse: 5.538069949003994\n",
      "rmse: 5.484068016681343\n",
      "rmse: 5.335419588556921\n",
      "rmse: 5.3633599989832135\n",
      "rmse: 5.410518705423985\n",
      "rmse: 5.4646431328121015\n",
      "rmse: 5.363707729018604\n",
      "rmse: 5.35469507253029\n",
      "rmse: 5.4431408201543805\n",
      "rmse: 5.357490752366866\n",
      "rmse: 5.617650247001616\n",
      "rmse: 6.336044899923994\n",
      "rmse: 5.370086069268862\n"
     ]
    }
   ],
   "source": [
    "ML_FLOW_TRACKING_URI = \"http://127.0.0.1:5000\"\n",
    "\n",
    "client = MlflowClient(tracking_uri=ML_FLOW_TRACKING_URI)\n",
    "\n",
    "client.search_experiments()\n",
    "\n",
    "runs = client.search_runs(\n",
    "    experiment_ids='2',\n",
    "    filter_string=\"\"\n",
    ")\n",
    "\n",
    "runs\n",
    "\n",
    "for run in runs:\n",
    "    print(f\"rmse: {run.data.metrics['rmse']}\")"
   ]
  },
  {
   "cell_type": "code",
   "execution_count": 74,
   "id": "7007aa43",
   "metadata": {},
   "outputs": [
    {
     "name": "stdout",
     "output_type": "stream",
     "text": [
      "rmse: 5.335\n"
     ]
    }
   ],
   "source": [
    "runs = client.search_runs(\n",
    "    experiment_ids='2',\n",
    "    filter_string=\"\",\n",
    "    max_results=1,\n",
    "    order_by=[\"metrics.rmse ASC\"],\n",
    ")\n",
    "\n",
    "runs\n",
    "\n",
    "for run in runs:\n",
    "    print(f\"rmse: {run.data.metrics['rmse']:.3f}\")"
   ]
  },
  {
   "cell_type": "markdown",
   "id": "3bf44b15",
   "metadata": {},
   "source": [
    "## Q6. Promote the best model to the model registry"
   ]
  },
  {
   "cell_type": "code",
   "execution_count": 2,
   "id": "35bede5e",
   "metadata": {},
   "outputs": [
    {
     "name": "stdout",
     "output_type": "stream",
     "text": [
      "Traceback (most recent call last):\n",
      "  File \"/home/maksat/mlops/mlops-zoomcamp/02-experiment-tracking/register_model.py\", line 86, in <module>\n",
      "    run_register_model()\n",
      "  File \"/home/maksat/mlops/lib/python3.12/site-packages/click/core.py\", line 1161, in __call__\n",
      "    return self.main(*args, **kwargs)\n",
      "           ^^^^^^^^^^^^^^^^^^^^^^^^^^\n",
      "  File \"/home/maksat/mlops/lib/python3.12/site-packages/click/core.py\", line 1082, in main\n",
      "    rv = self.invoke(ctx)\n",
      "         ^^^^^^^^^^^^^^^^\n",
      "  File \"/home/maksat/mlops/lib/python3.12/site-packages/click/core.py\", line 1443, in invoke\n",
      "    return ctx.invoke(self.callback, **ctx.params)\n",
      "           ^^^^^^^^^^^^^^^^^^^^^^^^^^^^^^^^^^^^^^^\n",
      "  File \"/home/maksat/mlops/lib/python3.12/site-packages/click/core.py\", line 788, in invoke\n",
      "    return __callback(*args, **kwargs)\n",
      "           ^^^^^^^^^^^^^^^^^^^^^^^^^^^\n",
      "  File \"/home/maksat/mlops/mlops-zoomcamp/02-experiment-tracking/register_model.py\", line 64, in run_register_model\n",
      "    experiment_ids=experiment.experiment_id,\n",
      "                   ^^^^^^^^^^^^^^^^^^^^^^^^\n",
      "AttributeError: 'NoneType' object has no attribute 'experiment_id'\n"
     ]
    }
   ],
   "source": [
    "!python register_model.py"
   ]
  },
  {
   "cell_type": "markdown",
   "id": "fb5dd4f8",
   "metadata": {},
   "source": [
    "![alt text](q6.jpg \"Title\")"
   ]
  }
 ],
 "metadata": {
  "kernelspec": {
   "display_name": "mlops",
   "language": "python",
   "name": "python3"
  },
  "language_info": {
   "codemirror_mode": {
    "name": "ipython",
    "version": 3
   },
   "file_extension": ".py",
   "mimetype": "text/x-python",
   "name": "python",
   "nbconvert_exporter": "python",
   "pygments_lexer": "ipython3",
   "version": "3.12.3"
  }
 },
 "nbformat": 4,
 "nbformat_minor": 5
}
